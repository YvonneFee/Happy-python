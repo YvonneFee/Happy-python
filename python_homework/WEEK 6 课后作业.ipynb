{
 "cells": [
  {
   "cell_type": "code",
   "execution_count": 15,
   "metadata": {},
   "outputs": [
    {
     "name": "stdout",
     "output_type": "stream",
     "text": [
      "C:\\Users\\Yvonne\n",
      "Error: 没有找到文件或读取文件失败\n"
     ]
    }
   ],
   "source": [
    "import re\n",
    "import os\n",
    "import sys\n",
    "\n",
    "print (os.getcwd())\n",
    "\n",
    "path=r\"C:/Users/Yvonne/books\"\n",
    "filename = sys.argv[1]\n",
    "fn=path+filename\n",
    "\n",
    "name=os.path.splitext(filename) ##去掉后缀名\n",
    "fn_EN=path+name[0]+'_EN.txt' \n",
    "fn_ZH=path+name[0]+'_CH.txt'\n",
    "\n",
    "try:\n",
    "    with open(fn, \"r\") as f:\n",
    "        string=f.read()\n",
    "        str_en = re.sub(u\"([\\u4e00-\\u9fa5]|[\\（\\）\\《\\》\\——\\；\\，\\、\\？\\。\\……\\“\\”\\<\\>\\！\\：\\·\\•])\",\"\",string)##去掉中文字符\n",
    "        str_zh = re.sub(u\"([\\u0041-\\u005a\\u0061-\\u007a]|[\\.\\'\\\"\\‘\\?\\．])\",\"\",string)##去掉英文字符\n",
    "    with open(fn_EN, 'w') as f0:\n",
    "        f0.write(str_en)\n",
    "    with open(fn_CH, 'w') as f1:\n",
    "        f1.write(str_zh)\n",
    "except IOError:\n",
    "    print(\"Error: 没有找到文件或读取文件失败\")\n",
    "else:\n",
    "    print(\"已完成\")\n"
   ]
  },
  {
   "cell_type": "code",
   "execution_count": null,
   "metadata": {},
   "outputs": [],
   "source": []
  },
  {
   "cell_type": "code",
   "execution_count": null,
   "metadata": {},
   "outputs": [],
   "source": []
  }
 ],
 "metadata": {
  "kernelspec": {
   "display_name": "Python 3",
   "language": "python",
   "name": "python3"
  },
  "language_info": {
   "codemirror_mode": {
    "name": "ipython",
    "version": 3
   },
   "file_extension": ".py",
   "mimetype": "text/x-python",
   "name": "python",
   "nbconvert_exporter": "python",
   "pygments_lexer": "ipython3",
   "version": "3.7.4"
  }
 },
 "nbformat": 4,
 "nbformat_minor": 2
}

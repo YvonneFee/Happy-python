{
 "cells": [
  {
   "cell_type": "code",
   "execution_count": 4,
   "metadata": {},
   "outputs": [],
   "source": [
    "import os"
   ]
  },
  {
   "cell_type": "code",
   "execution_count": 5,
   "metadata": {},
   "outputs": [],
   "source": [
    "flist=os.listdir('books')"
   ]
  },
  {
   "cell_type": "code",
   "execution_count": 6,
   "metadata": {},
   "outputs": [
    {
     "data": {
      "text/plain": [
       "['1A_01.爱情与金钱.txt',\n",
       " '1A_02.苏格兰玛丽女王.txt',\n",
       " '1A_03.在月亮下面.txt',\n",
       " '1A_04.潘德尔的巫师.txt',\n",
       " '1A_05.歌剧院的幽灵.txt',\n",
       " '1A_06.猴爪.txt',\n",
       " '1A_07.象人.txt',\n",
       " '1A_08.世界上最冷的地方.txt']"
      ]
     },
     "execution_count": 6,
     "metadata": {},
     "output_type": "execute_result"
    }
   ],
   "source": [
    "flist"
   ]
  },
  {
   "cell_type": "code",
   "execution_count": 7,
   "metadata": {},
   "outputs": [
    {
     "name": "stdout",
     "output_type": "stream",
     "text": [
      "44130\n",
      "46896\n",
      "36327\n",
      "41528\n",
      "46384\n",
      "33984\n",
      "37338\n",
      "41883\n"
     ]
    }
   ],
   "source": [
    "len_list=[]\n",
    "\n",
    "pre='books';\n",
    "for i in flist:\n",
    "    fn=pre+'/'+i\n",
    "    f=open(fn,'r')\n",
    "    c=f.read()\n",
    "    print(len(c))\n",
    "    len_list.append(len(c))"
   ]
  },
  {
   "cell_type": "code",
   "execution_count": 8,
   "metadata": {},
   "outputs": [
    {
     "data": {
      "text/plain": [
       "[44130, 46896, 36327, 41528, 46384, 33984, 37338, 41883]"
      ]
     },
     "execution_count": 8,
     "metadata": {},
     "output_type": "execute_result"
    }
   ],
   "source": [
    "len_list"
   ]
  },
  {
   "cell_type": "code",
   "execution_count": 9,
   "metadata": {},
   "outputs": [],
   "source": [
    "c=[flist,len_list]"
   ]
  },
  {
   "cell_type": "code",
   "execution_count": 10,
   "metadata": {},
   "outputs": [
    {
     "name": "stdout",
     "output_type": "stream",
     "text": [
      "{'1A_01.爱情与金钱.txt': 44130, '1A_02.苏格兰玛丽女王.txt': 46896, '1A_03.在月亮下面.txt': 36327, '1A_04.潘德尔的巫师.txt': 41528, '1A_05.歌剧院的幽灵.txt': 46384, '1A_06.猴爪.txt': 33984, '1A_07.象人.txt': 37338, '1A_08.世界上最冷的地方.txt': 41883}\n"
     ]
    }
   ],
   "source": [
    "output= {}\n",
    "output=dict(zip(flist, len_list))\n",
    "print(output)"
   ]
  },
  {
   "cell_type": "code",
   "execution_count": 11,
   "metadata": {},
   "outputs": [],
   "source": [
    "import json"
   ]
  },
  {
   "cell_type": "code",
   "execution_count": 12,
   "metadata": {},
   "outputs": [],
   "source": [
    "output_json=json.dumps(output)"
   ]
  },
  {
   "cell_type": "code",
   "execution_count": 14,
   "metadata": {},
   "outputs": [
    {
     "name": "stdout",
     "output_type": "stream",
     "text": [
      "{\"1A_01.\\u7231\\u60c5\\u4e0e\\u91d1\\u94b1.txt\": 44130, \"1A_02.\\u82cf\\u683c\\u5170\\u739b\\u4e3d\\u5973\\u738b.txt\": 46896, \"1A_03.\\u5728\\u6708\\u4eae\\u4e0b\\u9762.txt\": 36327, \"1A_04.\\u6f58\\u5fb7\\u5c14\\u7684\\u5deb\\u5e08.txt\": 41528, \"1A_05.\\u6b4c\\u5267\\u9662\\u7684\\u5e7d\\u7075.txt\": 46384, \"1A_06.\\u7334\\u722a.txt\": 33984, \"1A_07.\\u8c61\\u4eba.txt\": 37338, \"1A_08.\\u4e16\\u754c\\u4e0a\\u6700\\u51b7\\u7684\\u5730\\u65b9.txt\": 41883}\n"
     ]
    }
   ],
   "source": [
    "print(output_json)"
   ]
  },
  {
   "cell_type": "code",
   "execution_count": 22,
   "metadata": {},
   "outputs": [],
   "source": [
    "with open('output.json','w') as f:\n",
    "    json.dump(output,f)"
   ]
  },
  {
   "cell_type": "code",
   "execution_count": 23,
   "metadata": {},
   "outputs": [
    {
     "name": "stdout",
     "output_type": "stream",
     "text": [
      "{\"1A_01.\\u7231\\u60c5\\u4e0e\\u91d1\\u94b1.txt\": 44130, \"1A_02.\\u82cf\\u683c\\u5170\\u739b\\u4e3d\\u5973\\u738b.txt\": 46896, \"1A_03.\\u5728\\u6708\\u4eae\\u4e0b\\u9762.txt\": 36327, \"1A_04.\\u6f58\\u5fb7\\u5c14\\u7684\\u5deb\\u5e08.txt\": 41528, \"1A_05.\\u6b4c\\u5267\\u9662\\u7684\\u5e7d\\u7075.txt\": 46384, \"1A_06.\\u7334\\u722a.txt\": 33984, \"1A_07.\\u8c61\\u4eba.txt\": 37338, \"1A_08.\\u4e16\\u754c\\u4e0a\\u6700\\u51b7\\u7684\\u5730\\u65b9.txt\": 41883}\n"
     ]
    }
   ],
   "source": [
    "with open('output.json') as f:\n",
    "    print(f.read())"
   ]
  },
  {
   "cell_type": "code",
   "execution_count": 28,
   "metadata": {},
   "outputs": [],
   "source": [
    "import pickle"
   ]
  },
  {
   "cell_type": "code",
   "execution_count": 34,
   "metadata": {},
   "outputs": [],
   "source": [
    "output_string=pickle.dumps(output,1)"
   ]
  },
  {
   "cell_type": "code",
   "execution_count": 35,
   "metadata": {},
   "outputs": [
    {
     "name": "stdout",
     "output_type": "stream",
     "text": [
      "b'}q\\x00(X\\x19\\x00\\x00\\x001A_01.\\xe7\\x88\\xb1\\xe6\\x83\\x85\\xe4\\xb8\\x8e\\xe9\\x87\\x91\\xe9\\x92\\xb1.txtq\\x01Mb\\xacX\\x1f\\x00\\x00\\x001A_02.\\xe8\\x8b\\x8f\\xe6\\xa0\\xbc\\xe5\\x85\\xb0\\xe7\\x8e\\x9b\\xe4\\xb8\\xbd\\xe5\\xa5\\xb3\\xe7\\x8e\\x8b.txtq\\x02M0\\xb7X\\x19\\x00\\x00\\x001A_03.\\xe5\\x9c\\xa8\\xe6\\x9c\\x88\\xe4\\xba\\xae\\xe4\\xb8\\x8b\\xe9\\x9d\\xa2.txtq\\x03M\\xe7\\x8dX\\x1c\\x00\\x00\\x001A_04.\\xe6\\xbd\\x98\\xe5\\xbe\\xb7\\xe5\\xb0\\x94\\xe7\\x9a\\x84\\xe5\\xb7\\xab\\xe5\\xb8\\x88.txtq\\x04M8\\xa2X\\x1c\\x00\\x00\\x001A_05.\\xe6\\xad\\x8c\\xe5\\x89\\xa7\\xe9\\x99\\xa2\\xe7\\x9a\\x84\\xe5\\xb9\\xbd\\xe7\\x81\\xb5.txtq\\x05M0\\xb5X\\x10\\x00\\x00\\x001A_06.\\xe7\\x8c\\xb4\\xe7\\x88\\xaa.txtq\\x06M\\xc0\\x84X\\x10\\x00\\x00\\x001A_07.\\xe8\\xb1\\xa1\\xe4\\xba\\xba.txtq\\x07M\\xda\\x91X\"\\x00\\x00\\x001A_08.\\xe4\\xb8\\x96\\xe7\\x95\\x8c\\xe4\\xb8\\x8a\\xe6\\x9c\\x80\\xe5\\x86\\xb7\\xe7\\x9a\\x84\\xe5\\x9c\\xb0\\xe6\\x96\\xb9.txtq\\x08M\\x9b\\xa3u.'\n"
     ]
    }
   ],
   "source": [
    "print(output_string)"
   ]
  },
  {
   "cell_type": "code",
   "execution_count": 36,
   "metadata": {},
   "outputs": [],
   "source": [
    "with open('output.pkl','wb')as f:\n",
    "    pickle.dump(output,f)"
   ]
  },
  {
   "cell_type": "code",
   "execution_count": null,
   "metadata": {},
   "outputs": [],
   "source": []
  }
 ],
 "metadata": {
  "kernelspec": {
   "display_name": "Python 3",
   "language": "python",
   "name": "python3"
  },
  "language_info": {
   "codemirror_mode": {
    "name": "ipython",
    "version": 3
   },
   "file_extension": ".py",
   "mimetype": "text/x-python",
   "name": "python",
   "nbconvert_exporter": "python",
   "pygments_lexer": "ipython3",
   "version": "3.7.4"
  }
 },
 "nbformat": 4,
 "nbformat_minor": 2
}

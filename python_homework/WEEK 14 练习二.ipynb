{
 "cells": [
  {
   "cell_type": "code",
   "execution_count": 1,
   "metadata": {},
   "outputs": [
    {
     "name": "stdout",
     "output_type": "stream",
     "text": [
      "{'a': 7,\n",
      " 'b': 1,\n",
      " 'c': 4,\n",
      " 'd': 4,\n",
      " 'f': 1,\n",
      " 'k': 1,\n",
      " 'l': 1,\n",
      " 'm': 4,\n",
      " 'n': 12,\n",
      " 'nx': 1,\n",
      " 'p': 2,\n",
      " 'q': 2,\n",
      " 'r': 2,\n",
      " 'u': 13,\n",
      " 'v': 14,\n",
      " 'vd': 1,\n",
      " 'vn': 3,\n",
      " 'w': 8}\n"
     ]
    }
   ],
   "source": [
    "from snownlp import SnowNLP\n",
    "from pprint import pprint\n",
    "text = \"2019年即将结束，与之相伴的是健康保健行业中一些有趣的新趋势。这是一个不断发展的领域，随着新技术和信息的广大普及，新出现的趋势受到了人们的关注。2019年，我们看到越来越多的人选择了新疗法，包括大麻二酚产品的增加，以及致力于改善健康的应用程序和技术的持续增长。\"\n",
    "s = SnowNLP(text)\n",
    "tags = [t for t in s.tags]\n",
    "distr = {}\n",
    "for t in tags:\n",
    "    if not t[1] in distr.keys():\n",
    "        distr[t[1]]=1\n",
    "    else:\n",
    "        distr[t[1]]+=1\n",
    "pprint(distr)"
   ]
  },
  {
   "cell_type": "code",
   "execution_count": 3,
   "metadata": {},
   "outputs": [
    {
     "ename": "ModuleNotFoundError",
     "evalue": "No module named 'spacy'",
     "output_type": "error",
     "traceback": [
      "\u001b[1;31m---------------------------------------------------------------------------\u001b[0m",
      "\u001b[1;31mModuleNotFoundError\u001b[0m                       Traceback (most recent call last)",
      "\u001b[1;32m<ipython-input-3-d2e886e4568b>\u001b[0m in \u001b[0;36m<module>\u001b[1;34m\u001b[0m\n\u001b[1;32m----> 1\u001b[1;33m \u001b[1;32mimport\u001b[0m \u001b[0mspacy\u001b[0m\u001b[1;33m\u001b[0m\u001b[1;33m\u001b[0m\u001b[0m\n\u001b[0m\u001b[0;32m      2\u001b[0m \u001b[1;33m\u001b[0m\u001b[0m\n\u001b[0;32m      3\u001b[0m \u001b[0mnlp\u001b[0m \u001b[1;33m=\u001b[0m \u001b[0mspacy\u001b[0m\u001b[1;33m.\u001b[0m\u001b[0mload\u001b[0m\u001b[1;33m(\u001b[0m\u001b[1;34m'en'\u001b[0m\u001b[1;33m)\u001b[0m\u001b[1;33m\u001b[0m\u001b[1;33m\u001b[0m\u001b[0m\n\u001b[0;32m      4\u001b[0m \u001b[0mtext\u001b[0m\u001b[1;33m=\u001b[0m\u001b[1;34m\"2019 is coming to a close, and with it, we've seen some interesting trends that come and go in the health and wellness industry. This is a constantly evolving area where areas of interest come and go with new trends appearing as new technology and information are made accessible to the broader public. In 2019, we saw an interesting shift toward new therapies, including an increase in CBD-based products, as well as a continued rise in the number of apps and technology to improve well-being and health.\"\u001b[0m\u001b[1;33m\u001b[0m\u001b[1;33m\u001b[0m\u001b[0m\n\u001b[0;32m      5\u001b[0m \u001b[0mdoc\u001b[0m \u001b[1;33m=\u001b[0m \u001b[0mnlp\u001b[0m\u001b[1;33m(\u001b[0m\u001b[0mtext\u001b[0m\u001b[1;33m)\u001b[0m\u001b[1;33m\u001b[0m\u001b[1;33m\u001b[0m\u001b[0m\n",
      "\u001b[1;31mModuleNotFoundError\u001b[0m: No module named 'spacy'"
     ]
    }
   ],
   "source": [
    "#spaCy装不上\n",
    "\n",
    "import spacy\n",
    "\n",
    "nlp = spacy.load('en')\n",
    "text=\"2019 is coming to a close, and with it, we've seen some interesting trends that come and go in the health and wellness industry. This is a constantly evolving area where areas of interest come and go with new trends appearing as new technology and information are made accessible to the broader public. In 2019, we saw an interesting shift toward new therapies, including an increase in CBD-based products, as well as a continued rise in the number of apps and technology to improve well-being and health.\"\n",
    "doc = nlp(text)\n",
    "list(doc.sents)\n",
    "\n",
    "for w in list(doc.sents)[0]:print(w,w.tag_)\n",
    "all_tags = {w.pos: w.pos_ for w in doc}\n",
    "print(\"--------\")\n",
    "# 命名实体检测\n",
    "[ (w,w.label_)  for w in doc.ents]\n",
    "\n",
    "# 名词性短语\n",
    "[np for np in doc.noun_chunks]"
   ]
  },
  {
   "cell_type": "code",
   "execution_count": null,
   "metadata": {},
   "outputs": [],
   "source": []
  }
 ],
 "metadata": {
  "kernelspec": {
   "display_name": "Python 3",
   "language": "python",
   "name": "python3"
  },
  "language_info": {
   "codemirror_mode": {
    "name": "ipython",
    "version": 3
   },
   "file_extension": ".py",
   "mimetype": "text/x-python",
   "name": "python",
   "nbconvert_exporter": "python",
   "pygments_lexer": "ipython3",
   "version": "3.7.4"
  }
 },
 "nbformat": 4,
 "nbformat_minor": 2
}
